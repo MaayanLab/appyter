{
 "cells": [
  {
   "cell_type": "code",
   "execution_count": null,
   "source": [
    "#%%appyter init\n",
    "from appyter import magic\n",
    "magic.init(lambda _=globals: _())"
   ],
   "outputs": [],
   "metadata": {}
  },
  {
   "cell_type": "markdown",
   "source": [
    "# {{ cookiecutter.project_name }}\n",
    "\n",
    "{{ cookiecutter.project_description }}"
   ],
   "metadata": {}
  },
  {
   "cell_type": "code",
   "execution_count": null,
   "source": [
    "%%appyter hide_code\n",
    "\n",
    "{{'{%'}} do SectionField(\n",
    "  name='primary',\n",
    "  title=\"{{ cookiecutter.project_name }}\",\n",
    "  subtitle=\"{{ cookiecutter.project_description }}\",\n",
    ") {{'%}'}}\n",
    "\n",
    "{{'{%'}} set name = StringField(\n",
    "  name='name',\n",
    "  label='Your Name',\n",
    "  default='Nobody',\n",
    "  section='primary',\n",
    ") {{'%}'}}"
   ],
   "outputs": [],
   "metadata": {}
  },
  {
   "cell_type": "code",
   "execution_count": null,
   "source": [
    "%%appyter code_exec\n",
    "\n",
    "print(\"Hello {}!\".format({{'{{'}} name {{'}}'}}))"
   ],
   "outputs": [],
   "metadata": {}
  }
 ],
 "metadata": {
  "file_extension": ".py",
  "kernelspec": {
   "display_name": "Python 3",
   "language": "python",
   "name": "python3"
  },
  "language_info": {
   "codemirror_mode": {
    "name": "ipython",
    "version": 3
   },
   "file_extension": ".py",
   "mimetype": "text/x-python",
   "name": "python",
   "nbconvert_exporter": "python",
   "pygments_lexer": "ipython3",
   "version": "3.9.6"
  },
  "mimetype": "text/x-python",
  "name": "python",
  "npconvert_exporter": "python",
  "pygments_lexer": "ipython2",
  "version": 2
 },
 "nbformat": 4,
 "nbformat_minor": 2
}