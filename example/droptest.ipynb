{
 "cells": [
  {
   "cell_type": "code",
   "execution_count": null,
   "metadata": {},
   "outputs": [],
   "source": [
    "#%%appyter init\n",
    "# NOTE: The following line is only for debugging, in regular appyters using it from pip, it would be omitted\n",
    "import os, sys; sys.path.insert(0, os.path.realpath('..'))\n",
    "from appyter import magic\n",
    "magic.init(lambda _=globals: _())"
   ]
  },
  {
   "cell_type": "markdown",
   "metadata": {},
   "source": [
    "# My Title"
   ]
  },
  {
   "cell_type": "code",
   "execution_count": null,
   "metadata": {},
   "outputs": [],
   "source": [
    "import numpy as np\n",
    "import plotly.graph_objects as go"
   ]
  },
  {
    "cell_type": "code",
    "execution_count": null,
    "metadata": {},
    "outputs": [],
    "source": [
      "for n in range(2):\n",
      "    fig = go.Figure()\n",
      "    X = np.random.normal(loc=0, scale=1, size=(10000, 2))\n",
      "    fig.add_trace(go.Scattergl(\n",
      "        mode='markers',\n",
      "        x=X[:, 0],\n",
      "        y=X[:, 1],\n",
      "        text=[f\"{x}, {y}\" for x, y in X],\n",
      "    ))\n",
      "    fig.show()"
    ]
  },
  {
    "cell_type": "code",
    "execution_count": null,
    "metadata": {},
    "outputs": [],
    "source": [
      "for n in range(2):\n",
      "    fig = go.Figure()\n",
      "    X = np.random.normal(loc=0, scale=1, size=(500000, 2))\n",
      "    fig.add_trace(go.Scattergl(\n",
      "        mode='markers',\n",
      "        x=X[:, 0],\n",
      "        y=X[:, 1],\n",
      "        text=[f\"{x}, {y}\" for x, y in X],\n",
      "    ))\n",
      "    fig.show()"
    ]
  },
  {
    "cell_type": "code",
    "execution_count": null,
    "metadata": {},
    "outputs": [],
    "source": [
      "for n in range(2):\n",
      "    fig = go.Figure()\n",
      "    X = np.random.normal(loc=0, scale=1, size=(10000, 2))\n",
      "    fig.add_trace(go.Scattergl(\n",
      "        mode='markers',\n",
      "        x=X[:, 0],\n",
      "        y=X[:, 1],\n",
      "        text=[f\"{x}, {y}\" for x, y in X],\n",
      "    ))\n",
      "    fig.show()"
    ]
  },
  {
   "cell_type": "code",
   "execution_count": null,
   "metadata": {},
   "outputs": [],
   "source": []
  }
 ],
 "metadata": {
  "appyter": {
   "info": {
    "$schema": "https://raw.githubusercontent.com/MaayanLab/appyter-catalog/master/schema/appyter-validator.json",
    "appyter": {
     "extras": [
      "toc",
      "hide-code",
      "toggle-code"
     ],
     "file": "example.ipynb",
     "profile": "biojupies"
    },
    "authors": [
     {
      "email": "danieljbclarkemssm@gmail.com",
      "name": "Daniel J. B. Clarke"
     }
    ],
    "description": "An awesome appyter that I created.",
    "license": "CC-BY-NC-SA-4.0",
    "name": "example",
    "public": false,
    "tags": [
     "example"
    ],
    "title": "My Example Appyter",
    "url": "https://github.com/MaayanLab/appyter-catalog",
    "version": "0.0.0"
   }
  },
  "file_extension": ".py",
  "kernelspec": {
   "display_name": "Python 3 (ipykernel)",
   "language": "python",
   "name": "python3"
  },
  "language_info": {
   "codemirror_mode": {
    "name": "ipython",
    "version": 3
   },
   "file_extension": ".py",
   "mimetype": "text/x-python",
   "name": "python",
   "nbconvert_exporter": "python",
   "pygments_lexer": "ipython3",
   "version": "3.10.4"
  },
  "mimetype": "text/x-python",
  "name": "python",
  "npconvert_exporter": "python",
  "pygments_lexer": "ipython2",
  "version": 2
 },
 "nbformat": 4,
 "nbformat_minor": 2
}
