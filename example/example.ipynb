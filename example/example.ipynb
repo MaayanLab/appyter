{
 "cells": [
  {
   "cell_type": "code",
   "execution_count": 1,
   "metadata": {},
   "outputs": [],
   "source": [
    "#%%jupyter_template init\n",
    "import os, sys; sys.path.insert(0, os.path.realpath('..'))\n",
    "from jupyter_template import magic\n",
    "magic.init(lambda _=globals: _())"
   ]
  },
  {
   "cell_type": "code",
   "execution_count": 2,
   "metadata": {},
   "outputs": [
    {
     "data": {
      "text/markdown": [
       "\n",
       "# My Title"
      ],
      "text/plain": [
       "<IPython.core.display.Markdown object>"
      ]
     },
     "metadata": {},
     "output_type": "display_data"
    }
   ],
   "source": [
    "%%jupyter_template markdown\n",
    "\n",
    "# {{ StringField(\n",
    "    name='title',\n",
    "    label='Title',\n",
    "    default='My Title',\n",
    ").render_value }}\n",
    "\n",
    "{# EmailField(\n",
    "    name='email',\n",
    "    label='Contact Email',\n",
    "    default='example@email.com',\n",
    ").render_value #}"
   ]
  },
  {
   "cell_type": "code",
   "execution_count": 3,
   "metadata": {},
   "outputs": [
    {
     "data": {
      "text/markdown": [
       "```python\n",
       "answer = 5 + 5\n",
       "answer # add 5, 5 = 10\n",
       "```"
      ],
      "text/plain": [
       "<IPython.core.display.Markdown object>"
      ]
     },
     "metadata": {},
     "output_type": "display_data"
    },
    {
     "data": {
      "text/plain": [
       "10"
      ]
     },
     "metadata": {},
     "output_type": "display_data"
    }
   ],
   "source": [
    "%%jupyter_template code_eval\n",
    "{% set number_1 = IntField(name='number_1', label='First Number', min=0, max=10, default=5) %}\n",
    "{% set number_2 = IntField(name='number_2', label='Second Number', min=0, max=10, default=5) %}\n",
    "{% set op = ChoiceField(\n",
    "  name='operator',\n",
    "  label='Operator',\n",
    "  choices={\n",
    "    'add': '+',\n",
    "    'subtract': '-',\n",
    "    'multiply': '*',\n",
    "    'divide': '/',\n",
    "    'power': '**',\n",
    "  },\n",
    "  default='add',\n",
    ") %}\n",
    "answer = {{ number_1 }} {{ op }} {{ number_2 }}\n",
    "answer # {{ op.raw_value }} {{ number_1 }}, {{ number_2 }} = {{ op|do_op(number_1, number_2) }}"
   ]
  },
  {
   "cell_type": "code",
   "execution_count": 4,
   "metadata": {},
   "outputs": [],
   "source": [
    "%%jupyter_template hide\n",
    "{% set file = FileField(name='file', label='File Upload Test', default='test_example.py') %}"
   ]
  },
  {
   "cell_type": "code",
   "execution_count": 5,
   "metadata": {},
   "outputs": [
    {
     "data": {
      "text/markdown": [
       "\n",
       "Download [test_example.py](./test_example.py)"
      ],
      "text/plain": [
       "<IPython.core.display.Markdown object>"
      ]
     },
     "metadata": {},
     "output_type": "display_data"
    }
   ],
   "source": [
    "%%jupyter_template markdown\n",
    "Download [{{ file.render_value }}](./{{ file.value }})"
   ]
  },
  {
   "cell_type": "code",
   "execution_count": 6,
   "metadata": {},
   "outputs": [
    {
     "data": {
      "text/markdown": [
       "```python\n",
       "\n",
       "open('test_example.py', 'r').read()\n",
       "```"
      ],
      "text/plain": [
       "<IPython.core.display.Markdown object>"
      ]
     },
     "metadata": {},
     "output_type": "display_data"
    },
    {
     "data": {
      "text/plain": [
       "\"import os, sys; sys.path.insert(0, os.path.realpath('..'))\\n\\nfrom jupyter_template.parse.nbtemplate import nbtemplate_from_ipynb_file\\nfrom jupyter_template.render.ipynb import render_nb_from_nbtemplate\\nfrom jupyter_template.render.form import render_form_from_nbtemplate\\nfrom jupyter_template.context import get_jinja2_env\\nfrom jupyter_template.parse.nbtemplate import parse_fields_from_nbtemplate\\n\\nnbtemplate = nbtemplate_from_ipynb_file('example.ipynb')\\n\\nenv = get_jinja2_env()\\nparse_fields_from_nbtemplate(env, nbtemplate)\\n\\nenv = get_jinja2_env()\\nrender_form_from_nbtemplate(env, nbtemplate)\\n\\nenv = get_jinja2_env({\\n  'number_1': 8,\\n  'operator': 'subtract',\\n})\\nrender_nb_from_nbtemplate(env, nbtemplate)\\n\""
      ]
     },
     "metadata": {},
     "output_type": "display_data"
    }
   ],
   "source": [
    "%%jupyter_template code_eval\n",
    "open({{ file }}, 'r').read()"
   ]
  },
  {
   "cell_type": "code",
   "execution_count": 7,
   "metadata": {},
   "outputs": [
    {
     "data": {
      "text/markdown": [
       "**test**"
      ],
      "text/plain": [
       "<IPython.core.display.Markdown object>"
      ]
     },
     "metadata": {},
     "output_type": "display_data"
    },
    {
     "data": {
      "text/markdown": [
       "**test2**"
      ],
      "text/plain": [
       "<IPython.core.display.Markdown object>"
      ]
     },
     "metadata": {},
     "output_type": "display_data"
    }
   ],
   "source": [
    "from IPython.display import display, Markdown\n",
    "\n",
    "display(Markdown(\"**test**\"))\n",
    "display(Markdown(\"**test2**\"))\n"
   ]
  },
  {
   "cell_type": "code",
   "execution_count": 8,
   "metadata": {},
   "outputs": [
    {
     "data": {
      "text/markdown": [
       "```python\n",
       "result = ['a', 'c']\n",
       "result\n",
       "```"
      ],
      "text/plain": [
       "<IPython.core.display.Markdown object>"
      ]
     },
     "metadata": {},
     "output_type": "display_data"
    },
    {
     "data": {
      "text/plain": [
       "['a', 'c']"
      ]
     },
     "metadata": {},
     "output_type": "display_data"
    }
   ],
   "source": [
    "%%jupyter_template code_eval\n",
    "result = {{ MultiChoiceField(\n",
    "    name='test',\n",
    "    description='test',\n",
    "    label='Test',\n",
    "    choices=['a', 'b', 'c'],\n",
    "    default=['a', 'c'],\n",
    ").safe_value }}\n",
    "result"
   ]
  },
  {
   "cell_type": "code",
   "execution_count": null,
   "metadata": {},
   "outputs": [],
   "source": []
  }
 ],
 "metadata": {
  "file_extension": ".py",
  "kernelspec": {
   "display_name": "Python 3.8.2 64-bit ('venv': venv)",
   "language": "python",
   "name": "python38264bitvenvvenv221fa24da3f146ee814be82add0e3086"
  },
  "language_info": {
   "codemirror_mode": {
    "name": "ipython",
    "version": 3
   },
   "file_extension": ".py",
   "mimetype": "text/x-python",
   "name": "python",
   "nbconvert_exporter": "python",
   "pygments_lexer": "ipython3",
   "version": "3.8.2"
  },
  "mimetype": "text/x-python",
  "name": "python",
  "npconvert_exporter": "python",
  "pygments_lexer": "ipython2",
  "version": 2
 },
 "nbformat": 4,
 "nbformat_minor": 2
}
