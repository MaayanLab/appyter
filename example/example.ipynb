{
 "nbformat": 4,
 "nbformat_minor": 2,
 "metadata": {
  "language_info": {
   "name": "python",
   "codemirror_mode": {
    "name": "ipython",
    "version": 2
   },
   "version": "3.6.9-final"
  },
  "orig_nbformat": 2,
  "file_extension": ".py",
  "mimetype": "text/x-python",
  "name": "python",
  "npconvert_exporter": "python",
  "pygments_lexer": "ipython2",
  "version": 2,
  "kernelspec": {
   "name": "python36964bitvenvvenv3ca9106741c7489e9da8f71a527473f1",
   "display_name": "Python 3.6.9 64-bit ('venv': venv)"
  }
 },
 "cells": [
  {
   "cell_type": "code",
   "execution_count": 1,
   "metadata": {},
   "outputs": [],
   "source": [
    "#%%jupyter_template init\n",
    "import os, sys; sys.path.insert(0, os.path.realpath('..'))\n",
    "from jupyter_template import magic\n",
    "magic.init(lambda _=globals: _())"
   ]
  },
  {
   "cell_type": "code",
   "execution_count": 2,
   "metadata": {},
   "outputs": [
    {
     "output_type": "display_data",
     "data": {
      "text/plain": "<IPython.core.display.Markdown object>",
      "text/markdown": "# My Title\nMy Description"
     },
     "metadata": {}
    }
   ],
   "source": [
    "%%jupyter_template markdown\n",
    "\n",
    "# {{ StringField(\n",
    "    name='title',\n",
    "    label='Title',\n",
    "    default='My Title',\n",
    ") }}\n",
    "\n",
    "{{ TextField(\n",
    "    name='description',\n",
    "    label='Description',\n",
    "    default='My Description',\n",
    ") }}\n",
    "\n",
    "{# EmailField(\n",
    "    name='email',\n",
    "    label='Contact Email',\n",
    "    default='example@email.com',\n",
    ") #}"
   ]
  },
  {
   "cell_type": "code",
   "execution_count": 3,
   "metadata": {},
   "outputs": [
    {
     "output_type": "display_data",
     "data": {
      "text/plain": "<IPython.core.display.Markdown object>",
      "text/markdown": "```python\nanswer = 5 + 5\nanswer # add 5, 5 = 10\n```"
     },
     "metadata": {}
    },
    {
     "output_type": "display_data",
     "data": {
      "text/plain": "10"
     },
     "metadata": {}
    }
   ],
   "source": [
    "%%jupyter_template code_eval\n",
    "{% set number_1 = IntField(name='number_1', label='First Number', min=0, max=10, default=5) %}\n",
    "{% set number_2 = IntField(name='number_2', label='Second Number', min=0, max=10, default=5) %}\n",
    "{% set op = ChoiceField(\n",
    "  name='operator',\n",
    "  label='Operator',\n",
    "  choices={\n",
    "    'add': '+',\n",
    "    'subtract': '-',\n",
    "    'multiply': '*',\n",
    "    'divide': '/',\n",
    "    'power': '**',\n",
    "  },\n",
    "  default='add',\n",
    ") %}\n",
    "answer = {{ number_1.value }} {{ op.value }} {{ number_2.value }}\n",
    "answer # {{ op.raw_value }} {{ number_1.value }}, {{ number_2.value }} = {{ op|do_op(number_1, number_2) }}"
   ]
  },
  {
   "cell_type": "code",
   "execution_count": 4,
   "metadata": {},
   "outputs": [
    {
     "output_type": "display_data",
     "data": {
      "text/plain": "<IPython.core.display.Markdown object>",
      "text/markdown": "```python\n\nopen(\"test_example.py\", 'r').read()\n```"
     },
     "metadata": {}
    },
    {
     "output_type": "display_data",
     "data": {
      "text/plain": "\"import os, sys; sys.path.insert(0, os.path.realpath('..'))\\n\\nfrom jupyter_template.parse.nbtemplate import nbtemplate_from_ipynb_file\\nfrom jupyter_template.render.ipynb import render_nb_from_nbtemplate\\nfrom jupyter_template.render.form import render_form_from_nbtemplate\\nfrom jupyter_template.context import get_jinja2_env\\nfrom jupyter_template.parse.nbtemplate import parse_fields_from_nbtemplate\\n\\nnbtemplate = nbtemplate_from_ipynb_file('example.ipynb')\\n\\nenv = get_jinja2_env()\\nparse_fields_from_nbtemplate(env, nbtemplate)\\n\\nenv = get_jinja2_env()\\nrender_form_from_nbtemplate(env, nbtemplate)\\n\\nenv = get_jinja2_env({\\n  'number_1': 8,\\n  'operator': 'subtract',\\n})\\nrender_nb_from_nbtemplate(env, nbtemplate)\\n\""
     },
     "metadata": {}
    }
   ],
   "source": [
    "%%jupyter_template code_eval\n",
    "open(\"{{ FileField(name='file', label='File Upload Test', default='test_example.py').value }}\", 'r').read()"
   ]
  },
  {
   "cell_type": "code",
   "execution_count": 5,
   "metadata": {},
   "outputs": [
    {
     "output_type": "display_data",
     "data": {
      "text/plain": "<IPython.core.display.Markdown object>",
      "text/markdown": "**test**"
     },
     "metadata": {}
    },
    {
     "output_type": "display_data",
     "data": {
      "text/plain": "<IPython.core.display.Markdown object>",
      "text/markdown": "**test2**"
     },
     "metadata": {}
    }
   ],
   "source": [
    "from IPython.display import display, Markdown\n",
    "\n",
    "display(Markdown(\"**test**\"))\n",
    "display(Markdown(\"**test2**\"))\n",
    ""
   ]
  },
  {
   "cell_type": "code",
   "execution_count": null,
   "metadata": {},
   "outputs": [],
   "source": []
  }
 ]
}