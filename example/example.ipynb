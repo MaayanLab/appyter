{
 "cells": [
  {
   "cell_type": "code",
   "execution_count": null,
   "metadata": {},
   "outputs": [],
   "source": [
    "#%%appyter init\n",
    "# NOTE: The following line is only for debugging, in regular appyters using it from pip, it would be omitted\n",
    "import os, sys; sys.path.insert(0, os.path.realpath('..'))\n",
    "from appyter import magic\n",
    "magic.init(lambda _=globals: _())"
   ]
  },
  {
   "cell_type": "markdown",
   "metadata": {},
   "source": [
    "# My Title\n",
    "\n",
    "## Section 1"
   ]
  },
  {
   "cell_type": "markdown",
   "metadata": {},
   "source": [
    "### Sub Section a"
   ]
  },
  {
   "cell_type": "code",
   "execution_count": null,
   "metadata": {},
   "outputs": [],
   "source": [
    "### Comment, not subsection"
   ]
  },
  {
   "cell_type": "code",
   "execution_count": null,
   "metadata": {},
   "outputs": [],
   "source": [
    "%%appyter markdown\n",
    "### Sub Section b"
   ]
  },
  {
   "cell_type": "code",
   "execution_count": null,
   "metadata": {},
   "outputs": [],
   "source": [
    "import sys\n",
    "import time\n",
    "for n in range(10):\n",
    "    time.sleep(0.5)\n",
    "    print('\\r', n, end='')"
   ]
  },
  {
   "cell_type": "code",
   "execution_count": null,
   "metadata": {},
   "outputs": [],
   "source": [
    "from IPython.display import display, update_display, Markdown\n",
    "display(Markdown('### Dynamic Sub Section c'))\n",
    "\n",
    "h = display(Markdown(''), display_id=True)\n",
    "for n in range(10):\n",
    "    time.sleep(0.5)\n",
    "    update_display(n, display_id=h.display_id)\n",
    "    display(n)"
   ]
  },
  {
   "cell_type": "code",
   "execution_count": null,
   "metadata": {},
   "outputs": [],
   "source": [
    "%%appyter markdown\n",
    "\n",
    "# {{ StringField(\n",
    "    name='title',\n",
    "    label='Title',\n",
    "    default='My Title',\n",
    ").render_value }}\n",
    "\n",
    "{# EmailField(\n",
    "    name='email',\n",
    "    label='Contact Email',\n",
    "    default='example@email.com',\n",
    ").render_value #}"
   ]
  },
  {
   "cell_type": "code",
   "execution_count": null,
   "metadata": {},
   "outputs": [],
   "source": [
    "%%appyter code_eval\n",
    "{% set number_1 = IntField(name='number_1', label='First Number', default=11) %}\n",
    "{% set number_2 = IntField(name='number_2', label='Second Number', min=0, max=10, default=5) %}\n",
    "{% set op = ChoiceField(\n",
    "  name='operator',\n",
    "  label='Operator',\n",
    "  choices={\n",
    "    'add': '+',\n",
    "    'subtract': '-',\n",
    "    'multiply': '*',\n",
    "    'divide': '/',\n",
    "    'power': '**',\n",
    "  },\n",
    "  default='add',\n",
    ") %}\n",
    "answer = {{ number_1 }} {{ op }} {{ number_2 }}\n",
    "answer # {{ op.raw_value }} {{ number_1 }}, {{ number_2 }} = {{ op|do_op(number_1, number_2) }}"
   ]
  },
  {
   "cell_type": "code",
   "execution_count": null,
   "metadata": {},
   "outputs": [],
   "source": [
    "%%appyter hide\n",
    "{% set file_default = url_for('static', filename='test.js') %}\n",
    "{% set file = FileField(\n",
    "    name='file',\n",
    "    label='File Upload Test',\n",
    "    description='File Upload Test',\n",
    "    default=file_default,\n",
    "    examples={\n",
    "        'test': file_default,\n",
    "        'popular_genes.gmt': 'https://amp.pharm.mssm.edu/Enrichr/geneSetLibrary?mode=text&libraryName=Data_Acquisition_Method_Most_Popular_Genes',\n",
    "        'broken_example': 'http://appyters.maayanlab.cloud/404/',\n",
    "    }\n",
    ") %}"
   ]
  },
  {
   "cell_type": "code",
   "execution_count": null,
   "metadata": {},
   "outputs": [],
   "source": [
    "%%appyter markdown\n",
    "Download [{{ file.render_value }}](./{{ file.value }}) at {{ file.public_url }}"
   ]
  },
  {
   "cell_type": "code",
   "execution_count": null,
   "metadata": {},
   "outputs": [],
   "source": [
    "%%appyter code_eval\n",
    "open({{ file }}, 'r').read()"
   ]
  },
  {
   "cell_type": "code",
   "execution_count": null,
   "metadata": {},
   "outputs": [],
   "source": [
    "from IPython.display import display, Markdown\n",
    "\n",
    "display(Markdown(\"**test**\"))\n",
    "display(Markdown(\"**test2**\"))\n"
   ]
  },
  {
   "cell_type": "code",
   "execution_count": null,
   "metadata": {},
   "outputs": [],
   "source": [
    "%%appyter code_eval\n",
    "result = {{ MultiChoiceField(\n",
    "    name='test-multi-choice',\n",
    "    description='test',\n",
    "    label='Test',\n",
    "    choices=['a', 'b', 'c'],\n",
    "    default=['a', 'c'],\n",
    ").safe_value }}\n",
    "result"
   ]
  },
  {
   "cell_type": "code",
   "execution_count": null,
   "metadata": {},
   "outputs": [],
   "source": [
    "%%appyter code_eval\n",
    "result = {{ MultiCheckboxField(\n",
    "    name='test-multi-checkbox',\n",
    "    description='test multi checkboxes',\n",
    "    label='Test',\n",
    "    choices=['a', 'b', 'c'],\n",
    "    default=['a', 'c'],\n",
    ") }}\n",
    "result"
   ]
  },
  {
   "cell_type": "code",
   "execution_count": null,
   "metadata": {},
   "outputs": [],
   "source": [
    "from test import my_test_func\n",
    "my_test_func()"
   ]
  },
  {
   "cell_type": "code",
   "execution_count": null,
   "metadata": {},
   "outputs": [],
   "source": [
    "%%appyter code_exec\n",
    "import numpy as np\n",
    "import pandas as pd\n",
    "n1 = np.linspace({{ (number_1.value / 2) }}, {{ (number_1.value * 2) }})\n",
    "n2 = np.linspace({{ (number_2.value / 2) }}, {{ (number_2.value * 2) }})\n",
    "z = n1 {{ op }} n2\n",
    "df = pd.DataFrame({'n1': n1, 'n2': n2, 'z': z})\n",
    "df.to_csv('test.tsv', sep='\\t')\n",
    "df"
   ]
  },
  {
   "cell_type": "code",
   "execution_count": null,
   "metadata": {},
   "outputs": [],
   "source": [
    "%%appyter code_eval\n",
    "{{ TextListField(name='test-textlistfield', label='TextListField', default='\\nhello\\nworld') }}"
   ]
  },
  {
   "cell_type": "markdown",
   "metadata": {},
   "source": [
    "## Section 2"
   ]
  },
  {
   "cell_type": "code",
   "execution_count": null,
   "metadata": {},
   "outputs": [],
   "source": [
    "%%appyter markdown\n",
    "\n",
    "this  \n",
    "is\n",
    "valid\n",
    "\n",
    "**markdown**"
   ]
  },
  {
   "cell_type": "code",
   "execution_count": null,
   "metadata": {},
   "outputs": [],
   "source": [
    "%%appyter markdown\n",
    "\n",
    "![]({{ url_for('static', filename='GitHub-Mark.png') }})"
   ]
  }
 ],
 "metadata": {
  "file_extension": ".py",
  "kernelspec": {
   "display_name": "Python 3",
   "language": "python",
   "name": "python3"
  },
  "language_info": {
   "codemirror_mode": {
    "name": "ipython",
    "version": 3
   },
   "file_extension": ".py",
   "mimetype": "text/x-python",
   "name": "python",
   "nbconvert_exporter": "python",
   "pygments_lexer": "ipython3",
   "version": "3.9.6"
  },
  "mimetype": "text/x-python",
  "name": "python",
  "npconvert_exporter": "python",
  "pygments_lexer": "ipython2",
  "version": 2
 },
 "nbformat": 4,
 "nbformat_minor": 2
}
