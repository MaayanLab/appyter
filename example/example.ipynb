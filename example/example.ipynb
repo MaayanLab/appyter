{
 "cells": [
  {
   "cell_type": "code",
   "execution_count": 1,
   "metadata": {},
   "outputs": [],
   "source": [
    "#%%appyter init\n",
    "# NOTE: The following line is only for debugging, in regular appyters using it from pip, it would be omitted\n",
    "import os, sys; sys.path.insert(0, os.path.realpath('..'))\n",
    "from appyter import magic\n",
    "magic.init(lambda _=globals: _())"
   ]
  },
  {
   "cell_type": "code",
   "execution_count": 2,
   "metadata": {},
   "outputs": [
    {
     "output_type": "display_data",
     "data": {
      "text/plain": "<IPython.core.display.Markdown object>",
      "text/markdown": "\n# My Title"
     },
     "metadata": {}
    }
   ],
   "source": [
    "%%appyter markdown\n",
    "\n",
    "# {{ StringField(\n",
    "    name='title',\n",
    "    label='Title',\n",
    "    default='My Title',\n",
    ").render_value }}\n",
    "\n",
    "{# EmailField(\n",
    "    name='email',\n",
    "    label='Contact Email',\n",
    "    default='example@email.com',\n",
    ").render_value #}"
   ]
  },
  {
   "cell_type": "code",
   "execution_count": 3,
   "metadata": {},
   "outputs": [
    {
     "output_type": "display_data",
     "data": {
      "text/plain": "<IPython.core.display.Markdown object>",
      "text/markdown": "```python\nanswer = 5 + 5\nanswer # add 5, 5 = 10\n```"
     },
     "metadata": {}
    },
    {
     "output_type": "display_data",
     "data": {
      "text/plain": "10"
     },
     "metadata": {}
    }
   ],
   "source": [
    "%%appyter code_eval\n",
    "{% set number_1 = IntField(name='number_1', label='First Number', min=0, max=10, default=5) %}\n",
    "{% set number_2 = IntField(name='number_2', label='Second Number', min=0, max=10, default=5) %}\n",
    "{% set op = ChoiceField(\n",
    "  name='operator',\n",
    "  label='Operator',\n",
    "  choices={\n",
    "    'add': '+',\n",
    "    'subtract': '-',\n",
    "    'multiply': '*',\n",
    "    'divide': '/',\n",
    "    'power': '**',\n",
    "  },\n",
    "  default='add',\n",
    ") %}\n",
    "answer = {{ number_1 }} {{ op }} {{ number_2 }}\n",
    "answer # {{ op.raw_value }} {{ number_1 }}, {{ number_2 }} = {{ op|do_op(number_1, number_2) }}"
   ]
  },
  {
   "cell_type": "code",
   "execution_count": 4,
   "metadata": {},
   "outputs": [],
   "source": [
    "%%appyter hide\n",
    "{% set file = FileField(name='file', label='File Upload Test', default='test_example.py') %}"
   ]
  },
  {
   "cell_type": "code",
   "execution_count": 5,
   "metadata": {},
   "outputs": [
    {
     "output_type": "display_data",
     "data": {
      "text/plain": "<IPython.core.display.Markdown object>",
      "text/markdown": "\nDownload [test_example.py](./test_example.py)"
     },
     "metadata": {}
    }
   ],
   "source": [
    "%%appyter markdown\n",
    "Download [{{ file.render_value }}](./{{ file.value }})"
   ]
  },
  {
   "cell_type": "code",
   "execution_count": 6,
   "metadata": {},
   "outputs": [
    {
     "output_type": "display_data",
     "data": {
      "text/plain": "<IPython.core.display.Markdown object>",
      "text/markdown": "```python\n\nopen('test_example.py', 'r').read()\n```"
     },
     "metadata": {}
    },
    {
     "output_type": "display_data",
     "data": {
      "text/plain": "\"import os, sys; sys.path.insert(0, os.path.realpath('..'))\\n\\nfrom appyter.parse.nbtemplate import nbtemplate_from_ipynb_file\\nfrom appyter.render.ipynb import render_nb_from_nbtemplate\\nfrom appyter.render.form import render_form_from_nbtemplate\\nfrom appyter.context import get_jinja2_env\\nfrom appyter.parse.nbtemplate import parse_fields_from_nbtemplate\\n\\nnbtemplate = nbtemplate_from_ipynb_file('example.ipynb')\\n\\nenv = get_jinja2_env()\\nparse_fields_from_nbtemplate(env, nbtemplate)\\n\\nenv = get_jinja2_env()\\nrender_form_from_nbtemplate(env, nbtemplate)\\n\\nenv = get_jinja2_env({\\n  'number_1': 8,\\n  'operator': 'subtract',\\n})\\nrender_nb_from_nbtemplate(env, nbtemplate)\\n\""
     },
     "metadata": {}
    }
   ],
   "source": [
    "%%appyter code_eval\n",
    "open({{ file }}, 'r').read()"
   ]
  },
  {
   "cell_type": "code",
   "execution_count": 7,
   "metadata": {},
   "outputs": [
    {
     "output_type": "display_data",
     "data": {
      "text/plain": "<IPython.core.display.Markdown object>",
      "text/markdown": "**test**"
     },
     "metadata": {}
    },
    {
     "output_type": "display_data",
     "data": {
      "text/plain": "<IPython.core.display.Markdown object>",
      "text/markdown": "**test2**"
     },
     "metadata": {}
    }
   ],
   "source": [
    "from IPython.display import display, Markdown\n",
    "\n",
    "display(Markdown(\"**test**\"))\n",
    "display(Markdown(\"**test2**\"))\n"
   ]
  },
  {
   "cell_type": "code",
   "execution_count": 8,
   "metadata": {},
   "outputs": [
    {
     "output_type": "display_data",
     "data": {
      "text/plain": "<IPython.core.display.Markdown object>",
      "text/markdown": "```python\nresult = ['a', 'c']\nresult\n```"
     },
     "metadata": {}
    },
    {
     "output_type": "display_data",
     "data": {
      "text/plain": "['a', 'c']"
     },
     "metadata": {}
    }
   ],
   "source": [
    "%%appyter code_eval\n",
    "result = {{ MultiChoiceField(\n",
    "    name='test',\n",
    "    description='test',\n",
    "    label='Test',\n",
    "    choices=['a', 'b', 'c'],\n",
    "    default=['a', 'c'],\n",
    ").safe_value }}\n",
    "result"
   ]
  },
  {
   "cell_type": "code",
   "execution_count": 9,
   "metadata": {},
   "outputs": [
    {
     "output_type": "stream",
     "name": "stdout",
     "text": "hello world\n"
    }
   ],
   "source": [
    "from test import my_test_func\n",
    "my_test_func()"
   ]
  }
 ],
 "metadata": {
  "file_extension": ".py",
  "kernelspec": {
   "display_name": "Python 3.8.2 64-bit",
   "language": "python",
   "name": "python38264bit2ba397cf2bc44e92827d2ba15784a3d0"
  },
  "language_info": {
   "codemirror_mode": {
    "name": "ipython",
    "version": 3
   },
   "file_extension": ".py",
   "mimetype": "text/x-python",
   "name": "python",
   "nbconvert_exporter": "python",
   "pygments_lexer": "ipython3",
   "version": "3.8.3-final"
  },
  "mimetype": "text/x-python",
  "name": "python",
  "npconvert_exporter": "python",
  "pygments_lexer": "ipython2",
  "version": 2
 },
 "nbformat": 4,
 "nbformat_minor": 2
}