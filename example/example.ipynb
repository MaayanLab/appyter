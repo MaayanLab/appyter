{
 "cells": [
  {
   "cell_type": "code",
   "execution_count": 1,
   "metadata": {},
   "outputs": [],
   "source": [
    "#%%appyter init\n",
    "# NOTE: The following line is only for debugging, in regular appyters using it from pip, it would be omitted\n",
    "import os, sys; sys.path.insert(0, os.path.realpath('..'))\n",
    "from appyter import magic\n",
    "magic.init(lambda _=globals: _())"
   ]
  },
  {
   "cell_type": "code",
   "execution_count": 2,
   "metadata": {},
   "outputs": [
    {
     "output_type": "display_data",
     "data": {
      "text/plain": "<IPython.core.display.Markdown object>",
      "text/markdown": "\n# My Title"
     },
     "metadata": {}
    }
   ],
   "source": [
    "%%appyter markdown\n",
    "\n",
    "# {{ StringField(\n",
    "    name='title',\n",
    "    label='Title',\n",
    "    default='My Title',\n",
    ").render_value }}\n",
    "\n",
    "{# EmailField(\n",
    "    name='email',\n",
    "    label='Contact Email',\n",
    "    default='example@email.com',\n",
    ").render_value #}"
   ]
  },
  {
   "cell_type": "code",
   "execution_count": 3,
   "metadata": {},
   "outputs": [
    {
     "output_type": "display_data",
     "data": {
      "text/plain": "<IPython.core.display.Markdown object>",
      "text/markdown": "```python\nanswer = 11 + 5\nanswer # add 11, 5 = 16\n```"
     },
     "metadata": {}
    },
    {
     "output_type": "display_data",
     "data": {
      "text/plain": "16"
     },
     "metadata": {}
    }
   ],
   "source": [
    "%%appyter code_eval\n",
    "{% set number_1 = IntField(name='number_1', label='First Number', default=11) %}\n",
    "{% set number_2 = IntField(name='number_2', label='Second Number', min=0, max=10, default=5) %}\n",
    "{% set op = ChoiceField(\n",
    "  name='operator',\n",
    "  label='Operator',\n",
    "  choices={\n",
    "    'add': '+',\n",
    "    'subtract': '-',\n",
    "    'multiply': '*',\n",
    "    'divide': '/',\n",
    "    'power': '**',\n",
    "  },\n",
    "  default='add',\n",
    ") %}\n",
    "answer = {{ number_1 }} {{ op }} {{ number_2 }}\n",
    "answer # {{ op.raw_value }} {{ number_1 }}, {{ number_2 }} = {{ op|do_op(number_1, number_2) }}"
   ]
  },
  {
   "cell_type": "code",
   "execution_count": 4,
   "metadata": {},
   "outputs": [],
   "source": [
    "%%appyter hide\n",
    "{% set file = FileField(\n",
    "    name='file',\n",
    "    label='File Upload Test',\n",
    "    default='test_example.py',\n",
    "    examples={\n",
    "        'test': url_for('static', filename='test.js'),\n",
    "        'popular_genes.gmt': 'https://amp.pharm.mssm.edu/Enrichr/geneSetLibrary?mode=text&libraryName=Data_Acquisition_Method_Most_Popular_Genes',\n",
    "    }\n",
    ") %}"
   ]
  },
  {
   "cell_type": "code",
   "execution_count": 5,
   "metadata": {},
   "outputs": [
    {
     "output_type": "display_data",
     "data": {
      "text/plain": "<IPython.core.display.Markdown object>",
      "text/markdown": "\nDownload [test_example.py](./test_example.py)"
     },
     "metadata": {}
    }
   ],
   "source": [
    "%%appyter markdown\n",
    "Download [{{ file.render_value }}](./{{ file.value }})"
   ]
  },
  {
   "cell_type": "code",
   "execution_count": 6,
   "metadata": {},
   "outputs": [
    {
     "output_type": "display_data",
     "data": {
      "text/plain": "<IPython.core.display.Markdown object>",
      "text/markdown": "```python\n\nopen('test_example.py', 'r').read()\n```"
     },
     "metadata": {}
    },
    {
     "output_type": "display_data",
     "data": {
      "text/plain": "\"import os, sys; sys.path.insert(0, os.path.realpath('..'))\\n\\nfrom appyter.parse.nbtemplate import nbtemplate_from_ipynb_file\\nfrom appyter.render.ipynb import render_nb_from_nbtemplate\\nfrom appyter.render.form import render_form_from_nbtemplate\\nfrom appyter.context import get_jinja2_env\\nfrom appyter.parse.nbtemplate import parse_fields_from_nbtemplate\\n\\nnbtemplate = nbtemplate_from_ipynb_file('example.ipynb')\\n\\nenv = get_jinja2_env()\\nparse_fields_from_nbtemplate(env, nbtemplate)\\n\\nenv = get_jinja2_env()\\nrender_form_from_nbtemplate(env, nbtemplate)\\n\\nenv = get_jinja2_env({\\n  'number_1': 8,\\n  'operator': 'subtract',\\n})\\nrender_nb_from_nbtemplate(env, nbtemplate)\\n\""
     },
     "metadata": {}
    }
   ],
   "source": [
    "%%appyter code_eval\n",
    "open({{ file }}, 'r').read()"
   ]
  },
  {
   "cell_type": "code",
   "execution_count": 7,
   "metadata": {},
   "outputs": [
    {
     "output_type": "display_data",
     "data": {
      "text/plain": "<IPython.core.display.Markdown object>",
      "text/markdown": "**test**"
     },
     "metadata": {}
    },
    {
     "output_type": "display_data",
     "data": {
      "text/plain": "<IPython.core.display.Markdown object>",
      "text/markdown": "**test2**"
     },
     "metadata": {}
    }
   ],
   "source": [
    "from IPython.display import display, Markdown\n",
    "\n",
    "display(Markdown(\"**test**\"))\n",
    "display(Markdown(\"**test2**\"))\n"
   ]
  },
  {
   "cell_type": "code",
   "execution_count": 8,
   "metadata": {},
   "outputs": [
    {
     "output_type": "display_data",
     "data": {
      "text/plain": "<IPython.core.display.Markdown object>",
      "text/markdown": "```python\nresult = ['a', 'c']\nresult\n```"
     },
     "metadata": {}
    },
    {
     "output_type": "display_data",
     "data": {
      "text/plain": "['a', 'c']"
     },
     "metadata": {}
    }
   ],
   "source": [
    "%%appyter code_eval\n",
    "result = {{ MultiChoiceField(\n",
    "    name='test',\n",
    "    description='test',\n",
    "    label='Test',\n",
    "    choices=['a', 'b', 'c'],\n",
    "    default=['a', 'c'],\n",
    ").safe_value }}\n",
    "result"
   ]
  },
  {
   "cell_type": "code",
   "execution_count": 9,
   "metadata": {},
   "outputs": [
    {
     "output_type": "stream",
     "name": "stdout",
     "text": "hello world\n"
    }
   ],
   "source": [
    "from test import my_test_func\n",
    "my_test_func()"
   ]
  },
  {
   "cell_type": "code",
   "execution_count": 10,
   "metadata": {},
   "outputs": [
    {
     "output_type": "display_data",
     "data": {
      "text/plain": "<IPython.core.display.Markdown object>",
      "text/markdown": "```python\nimport numpy as np\nimport pandas as pd\nn1 = np.linspace(5.5, 22)\nn2 = np.linspace(2.5, 10)\nz = n1 + n2\ndf = pd.DataFrame({'n1': n1, 'n2': n2, 'z': z})\ndf.to_csv('test.tsv', sep='\\t')\ndf\n```"
     },
     "metadata": {}
    }
   ],
   "source": [
    "%%appyter code_exec\n",
    "import numpy as np\n",
    "import pandas as pd\n",
    "n1 = np.linspace({{ (number_1.value / 2) }}, {{ (number_1.value * 2) }})\n",
    "n2 = np.linspace({{ (number_2.value / 2) }}, {{ (number_2.value * 2) }})\n",
    "z = n1 {{ op }} n2\n",
    "df = pd.DataFrame({'n1': n1, 'n2': n2, 'z': z})\n",
    "df.to_csv('test.tsv', sep='\\t')\n",
    "df"
   ]
  },
  {
   "cell_type": "code",
   "execution_count": 11,
   "metadata": {},
   "outputs": [
    {
     "output_type": "display_data",
     "data": {
      "text/plain": "<IPython.core.display.Markdown object>",
      "text/markdown": "```python\n\n['hello', 'world']\n```"
     },
     "metadata": {}
    },
    {
     "output_type": "display_data",
     "data": {
      "text/plain": "['hello', 'world']"
     },
     "metadata": {}
    }
   ],
   "source": [
    "%%appyter code_eval\n",
    "{{ TextListField(name='test-textlistfield', default='\\nhello\\nworld') }}"
   ]
  }
 ],
 "metadata": {
  "file_extension": ".py",
  "kernelspec": {
   "display_name": "Python 3.8.2 64-bit",
   "language": "python",
   "name": "python38264bit2ba397cf2bc44e92827d2ba15784a3d0"
  },
  "language_info": {
   "codemirror_mode": {
    "name": "ipython",
    "version": 3
   },
   "file_extension": ".py",
   "mimetype": "text/x-python",
   "name": "python",
   "nbconvert_exporter": "python",
   "pygments_lexer": "ipython3",
   "version": "3.8.3-final"
  },
  "mimetype": "text/x-python",
  "name": "python",
  "npconvert_exporter": "python",
  "pygments_lexer": "ipython2",
  "version": 2
 },
 "nbformat": 4,
 "nbformat_minor": 2
}