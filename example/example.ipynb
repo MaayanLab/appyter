{
 "nbformat": 4,
 "nbformat_minor": 2,
 "metadata": {
  "language_info": {
   "name": "python",
   "codemirror_mode": {
    "name": "ipython",
    "version": 2
   },
   "version": "3.6.9-final"
  },
  "orig_nbformat": 2,
  "file_extension": ".py",
  "mimetype": "text/x-python",
  "name": "python",
  "npconvert_exporter": "python",
  "pygments_lexer": "ipython2",
  "version": 2,
  "kernelspec": {
   "name": "python36964bitvenvvenv3ca9106741c7489e9da8f71a527473f1",
   "display_name": "Python 3.6.9 64-bit ('venv': venv)"
  }
 },
 "cells": [
  {
   "cell_type": "code",
   "execution_count": 1,
   "metadata": {},
   "outputs": [],
   "source": [
    "#%%jupyter_template init\n",
    "import os, sys; sys.path.insert(0, os.path.realpath('..'))\n",
    "from jupyter_template import magic\n",
    "magic.init(lambda _=globals: _())"
   ]
  },
  {
   "cell_type": "code",
   "execution_count": 2,
   "metadata": {},
   "outputs": [
    {
     "data": {
      "text/markdown": "# My Title\nMy Description",
      "text/plain": "<IPython.core.display.Markdown object>"
     },
     "metadata": {},
     "output_type": "display_data"
    }
   ],
   "source": [
    "%%jupyter_template markdown\n",
    "\n",
    "# {{ StringField(\n",
    "    name='title',\n",
    "    label='Title',\n",
    "    default='My Title',\n",
    ") }}\n",
    "\n",
    "{{ TextField(\n",
    "    name='description',\n",
    "    label='Description',\n",
    "    default='My Description',\n",
    ") }}\n",
    "\n",
    "{# EmailField(\n",
    "    name='email',\n",
    "    label='Contact Email',\n",
    "    default='example@email.com',\n",
    ") #}"
   ]
  },
  {
   "cell_type": "code",
   "execution_count": 3,
   "metadata": {},
   "outputs": [
    {
     "name": "stdout",
     "output_type": "stream",
     "text": "<class 'jupyter_template.default.fields.ChoiceField.ChoiceField'> <class 'jupyter_template.default.fields.IntField.IntField'> <class 'jupyter_template.default.fields.IntField.IntField'>\n"
    },
    {
     "data": {
      "text/markdown": "```python\nanswer = 5 + 5\nanswer # add 5, 5 = 10\n```",
      "text/plain": "<IPython.core.display.Markdown object>"
     },
     "metadata": {},
     "output_type": "display_data"
    },
    {
     "data": {
      "text/plain": "10"
     },
     "metadata": {},
     "output_type": "display_data"
    },
    {
     "name": "stdout",
     "output_type": "stream",
     "text": "<class 'jupyter_template.default.fields.ChoiceField.ChoiceField'> <class 'jupyter_template.default.fields.IntField.IntField'> <class 'jupyter_template.default.fields.IntField.IntField'>\n"
    }
   ],
   "source": [
    "%%jupyter_template code_eval\n",
    "{% set number_1 = IntField(name='number_1', label='First Number', min=0, max=10, default=5) %}\n",
    "{% set number_2 = IntField(name='number_2', label='Second Number', min=0, max=10, default=5) %}\n",
    "{% set op = ChoiceField(\n",
    "  name='operator',\n",
    "  label='Operator',\n",
    "  choices={\n",
    "    'add': '+',\n",
    "    'subtract': '-',\n",
    "    'multiply': '*',\n",
    "    'divide': '/',\n",
    "    'power': '**',\n",
    "  },\n",
    "  default='add',\n",
    ") %}\n",
    "answer = {{ number_1.value }} {{ op.value }} {{ number_2.value }}\n",
    "answer # {{ op.raw_value }} {{ number_1.value }}, {{ number_2.value }} = {{ op|do_op(number_1, number_2) }}"
   ]
  },
  {
   "cell_type": "code",
   "execution_count": null,
   "metadata": {},
   "outputs": [],
   "source": []
  }
 ]
}