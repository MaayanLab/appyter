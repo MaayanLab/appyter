{
 "cells": [
  {
   "cell_type": "code",
   "execution_count": 2,
   "metadata": {
    "scrolled": false
   },
   "outputs": [
    {
     "data": {
      "text/html": [
       "Error"
      ],
      "text/plain": [
       "<IPython.core.display.HTML object>"
      ]
     },
     "metadata": {},
     "output_type": "display_data"
    },
    {
     "data": {
      "text/html": [
       "<div class=\"cell border-box-sizing text_cell rendered\"><div class=\"prompt input_prompt\">\n",
       "</div><div class=\"inner_cell\">\n",
       "<div class=\"text_cell_render border-box-sizing rendered_html\">\n",
       "<h1 id=\"My-Title\">My Title<a class=\"anchor-link\" href=\"#My-Title\">¶</a></h1><h2 id=\"Section-1\">Section 1<a class=\"anchor-link\" href=\"#Section-1\">¶</a></h2>\n",
       "</div>\n",
       "</div>\n",
       "</div>"
      ],
      "text/plain": [
       "<IPython.core.display.HTML object>"
      ]
     },
     "metadata": {},
     "output_type": "display_data"
    },
    {
     "data": {
      "text/html": [
       "<div class=\"cell border-box-sizing text_cell rendered\"><div class=\"prompt input_prompt\">\n",
       "</div><div class=\"inner_cell\">\n",
       "<div class=\"text_cell_render border-box-sizing rendered_html\">\n",
       "<h3 id=\"Sub-Section-a\">Sub Section a<a class=\"anchor-link\" href=\"#Sub-Section-a\">¶</a></h3>\n",
       "</div>\n",
       "</div>\n",
       "</div>"
      ],
      "text/plain": [
       "<IPython.core.display.HTML object>"
      ]
     },
     "metadata": {},
     "output_type": "display_data"
    },
    {
     "data": {
      "text/html": [
       "<div class=\"cell border-box-sizing code_cell rendered\">\n",
       "<div class=\"input\">\n",
       "<div class=\"prompt input_prompt\">In [1]:</div>\n",
       "<div class=\"inner_cell\">\n",
       "<div class=\"input_area\">\n",
       "<div class=\"highlight hl-ipython3\"><pre><span></span><span class=\"c1\">### Comment, not subsection</span>\n",
       "</pre></div>\n",
       "</div>\n",
       "</div>\n",
       "</div>\n",
       "</div>"
      ],
      "text/plain": [
       "<IPython.core.display.HTML object>"
      ]
     },
     "metadata": {},
     "output_type": "display_data"
    },
    {
     "data": {
      "text/html": [
       "<div class=\"cell border-box-sizing text_cell rendered\"><div class=\"prompt input_prompt\">\n",
       "</div><div class=\"inner_cell\">\n",
       "<div class=\"text_cell_render border-box-sizing rendered_html\">\n",
       "<h3 id=\"Sub-Section-b\">Sub Section b<a class=\"anchor-link\" href=\"#Sub-Section-b\">¶</a></h3>\n",
       "</div>\n",
       "</div>\n",
       "</div>"
      ],
      "text/plain": [
       "<IPython.core.display.HTML object>"
      ]
     },
     "metadata": {},
     "output_type": "display_data"
    },
    {
     "data": {
      "text/html": [
       "<div class=\"cell border-box-sizing code_cell rendered\">\n",
       "<div class=\"input\">\n",
       "<div class=\"prompt input_prompt\">In [2]:</div>\n",
       "<div class=\"inner_cell\">\n",
       "<div class=\"input_area\">\n",
       "<div class=\"highlight hl-ipython3\"><pre><span></span><span class=\"kn\">import</span> <span class=\"nn\">sys</span>\n",
       "<span class=\"kn\">import</span> <span class=\"nn\">time</span>\n",
       "<span class=\"k\">for</span> <span class=\"n\">n</span> <span class=\"ow\">in</span> <span class=\"nb\">range</span><span class=\"p\">(</span><span class=\"mi\">10</span><span class=\"p\">):</span>\n",
       "    <span class=\"n\">time</span><span class=\"o\">.</span><span class=\"n\">sleep</span><span class=\"p\">(</span><span class=\"mf\">0.5</span><span class=\"p\">)</span>\n",
       "    <span class=\"nb\">print</span><span class=\"p\">(</span><span class=\"s1\">'</span><span class=\"se\">\\r</span><span class=\"s1\">'</span><span class=\"p\">,</span> <span class=\"n\">n</span><span class=\"p\">,</span> <span class=\"n\">end</span><span class=\"o\">=</span><span class=\"s1\">''</span><span class=\"p\">)</span>\n",
       "</pre></div>\n",
       "</div>\n",
       "</div>\n",
       "</div>\n",
       "<div class=\"output_wrapper\">\n",
       "<div class=\"output\">\n",
       "<div class=\"output_area\">\n",
       "<div class=\"prompt\"></div>\n",
       "<div class=\"output_subarea output_stream output_stdout output_text\">\n",
       "<pre> 9</pre>\n",
       "</div>\n",
       "</div>\n",
       "</div>\n",
       "</div>\n",
       "</div>"
      ],
      "text/plain": [
       "<IPython.core.display.HTML object>"
      ]
     },
     "metadata": {},
     "output_type": "display_data"
    },
    {
     "data": {
      "text/html": [
       "<div class=\"cell border-box-sizing text_cell rendered\"><div class=\"prompt input_prompt\">\n",
       "</div><div class=\"inner_cell\">\n",
       "<div class=\"text_cell_render border-box-sizing rendered_html\">\n",
       "<h1 id=\"My-Title\">My Title<a class=\"anchor-link\" href=\"#My-Title\">¶</a></h1>\n",
       "</div>\n",
       "</div>\n",
       "</div>"
      ],
      "text/plain": [
       "<IPython.core.display.HTML object>"
      ]
     },
     "metadata": {},
     "output_type": "display_data"
    },
    {
     "data": {
      "text/html": [
       "<div class=\"cell border-box-sizing code_cell rendered\">\n",
       "<div class=\"input\">\n",
       "<div class=\"prompt input_prompt\">In [3]:</div>\n",
       "<div class=\"inner_cell\">\n",
       "<div class=\"input_area\">\n",
       "<div class=\"highlight hl-ipython3\"><pre><span></span><span class=\"n\">answer</span> <span class=\"o\">=</span> <span class=\"mi\">11</span> <span class=\"o\">+</span> <span class=\"mi\">5</span>\n",
       "<span class=\"n\">answer</span> <span class=\"c1\"># add 11, 5 = 16</span>\n",
       "</pre></div>\n",
       "</div>\n",
       "</div>\n",
       "</div>\n",
       "<div class=\"output_wrapper\">\n",
       "<div class=\"output\">\n",
       "<div class=\"output_area\">\n",
       "<div class=\"prompt output_prompt\">Out[3]:</div>\n",
       "<div class=\"output_text output_subarea output_execute_result\">\n",
       "<pre>16</pre>\n",
       "</div>\n",
       "</div>\n",
       "</div>\n",
       "</div>\n",
       "</div>"
      ],
      "text/plain": [
       "<IPython.core.display.HTML object>"
      ]
     },
     "metadata": {},
     "output_type": "display_data"
    },
    {
     "data": {
      "text/html": [
       "<div class=\"cell border-box-sizing text_cell rendered\"><div class=\"prompt input_prompt\">\n",
       "</div><div class=\"inner_cell\">\n",
       "<div class=\"text_cell_render border-box-sizing rendered_html\">\n",
       "<p>Download <a href=\"./test_example.py\">test_example.py</a> at <a href=\"http://127.0.0.1:5000/socket.io/test_example.py\">http://127.0.0.1:5000/socket.io/test_example.py</a></p>\n",
       "</div>\n",
       "</div>\n",
       "</div>"
      ],
      "text/plain": [
       "<IPython.core.display.HTML object>"
      ]
     },
     "metadata": {},
     "output_type": "display_data"
    },
    {
     "data": {
      "text/html": [
       "<div class=\"cell border-box-sizing code_cell rendered\">\n",
       "<div class=\"input\">\n",
       "<div class=\"prompt input_prompt\">In [4]:</div>\n",
       "<div class=\"inner_cell\">\n",
       "<div class=\"input_area\">\n",
       "<div class=\"highlight hl-ipython3\"><pre><span></span><span class=\"nb\">open</span><span class=\"p\">(</span><span class=\"s1\">'test_example.py'</span><span class=\"p\">,</span> <span class=\"s1\">'r'</span><span class=\"p\">)</span><span class=\"o\">.</span><span class=\"n\">read</span><span class=\"p\">()</span>\n",
       "</pre></div>\n",
       "</div>\n",
       "</div>\n",
       "</div>\n",
       "<div class=\"output_wrapper\">\n",
       "<div class=\"output\">\n",
       "<div class=\"output_area\">\n",
       "<div class=\"prompt\"></div>\n",
       "<div class=\"output_subarea output_text output_error\">\n",
       "<pre>\n",
       "<span class=\"ansi-red-fg\">---------------------------------------------------------------------------</span>\n",
       "<span class=\"ansi-red-fg\">FileNotFoundError</span>                         Traceback (most recent call last)\n",
       "<span class=\"ansi-green-fg\">&lt;ipython-input-4-92960564e284&gt;</span> in <span class=\"ansi-cyan-fg\">&lt;module&gt;</span>\n",
       "<span class=\"ansi-green-fg\">----&gt; 1</span><span class=\"ansi-red-fg\"> </span>open<span class=\"ansi-blue-fg\">(</span><span class=\"ansi-blue-fg\">'test_example.py'</span><span class=\"ansi-blue-fg\">,</span> <span class=\"ansi-blue-fg\">'r'</span><span class=\"ansi-blue-fg\">)</span><span class=\"ansi-blue-fg\">.</span>read<span class=\"ansi-blue-fg\">(</span><span class=\"ansi-blue-fg\">)</span>\n",
       "\n",
       "<span class=\"ansi-red-fg\">FileNotFoundError</span>: [Errno 2] No such file or directory: 'test_example.py'</pre>\n",
       "</div>\n",
       "</div>\n",
       "</div>\n",
       "</div>\n",
       "</div>"
      ],
      "text/plain": [
       "<IPython.core.display.HTML object>"
      ]
     },
     "metadata": {},
     "output_type": "display_data"
    },
    {
     "data": {
      "text/html": [
       "<div class=\"cell border-box-sizing code_cell rendered\">\n",
       "<div class=\"input\">\n",
       "<div class=\"prompt input_prompt\">In [ ]:</div>\n",
       "<div class=\"inner_cell\">\n",
       "<div class=\"input_area\">\n",
       "<div class=\"highlight hl-ipython3\"><pre><span></span><span class=\"kn\">from</span> <span class=\"nn\">IPython.display</span> <span class=\"kn\">import</span> <span class=\"n\">display</span><span class=\"p\">,</span> <span class=\"n\">Markdown</span>\n",
       "\n",
       "<span class=\"n\">display</span><span class=\"p\">(</span><span class=\"n\">Markdown</span><span class=\"p\">(</span><span class=\"s2\">\"**test**\"</span><span class=\"p\">))</span>\n",
       "<span class=\"n\">display</span><span class=\"p\">(</span><span class=\"n\">Markdown</span><span class=\"p\">(</span><span class=\"s2\">\"**test2**\"</span><span class=\"p\">))</span>\n",
       "</pre></div>\n",
       "</div>\n",
       "</div>\n",
       "</div>\n",
       "</div>"
      ],
      "text/plain": [
       "<IPython.core.display.HTML object>"
      ]
     },
     "metadata": {},
     "output_type": "display_data"
    },
    {
     "data": {
      "text/html": [
       "<div class=\"cell border-box-sizing code_cell rendered\">\n",
       "<div class=\"input\">\n",
       "<div class=\"prompt input_prompt\">In [ ]:</div>\n",
       "<div class=\"inner_cell\">\n",
       "<div class=\"input_area\">\n",
       "<div class=\"highlight hl-ipython3\"><pre><span></span><span class=\"n\">result</span> <span class=\"o\">=</span> <span class=\"p\">[</span><span class=\"s1\">'a'</span><span class=\"p\">,</span> <span class=\"s1\">'c'</span><span class=\"p\">]</span>\n",
       "<span class=\"n\">result</span>\n",
       "</pre></div>\n",
       "</div>\n",
       "</div>\n",
       "</div>\n",
       "</div>"
      ],
      "text/plain": [
       "<IPython.core.display.HTML object>"
      ]
     },
     "metadata": {},
     "output_type": "display_data"
    },
    {
     "data": {
      "text/html": [
       "<div class=\"cell border-box-sizing code_cell rendered\">\n",
       "<div class=\"input\">\n",
       "<div class=\"prompt input_prompt\">In [ ]:</div>\n",
       "<div class=\"inner_cell\">\n",
       "<div class=\"input_area\">\n",
       "<div class=\"highlight hl-ipython3\"><pre><span></span><span class=\"n\">result</span> <span class=\"o\">=</span> <span class=\"p\">[</span><span class=\"s1\">'a'</span><span class=\"p\">,</span> <span class=\"s1\">'c'</span><span class=\"p\">]</span>\n",
       "<span class=\"n\">result</span>\n",
       "</pre></div>\n",
       "</div>\n",
       "</div>\n",
       "</div>\n",
       "</div>"
      ],
      "text/plain": [
       "<IPython.core.display.HTML object>"
      ]
     },
     "metadata": {},
     "output_type": "display_data"
    },
    {
     "data": {
      "text/html": [
       "<div class=\"cell border-box-sizing code_cell rendered\">\n",
       "<div class=\"input\">\n",
       "<div class=\"prompt input_prompt\">In [ ]:</div>\n",
       "<div class=\"inner_cell\">\n",
       "<div class=\"input_area\">\n",
       "<div class=\"highlight hl-ipython3\"><pre><span></span><span class=\"kn\">from</span> <span class=\"nn\">test</span> <span class=\"kn\">import</span> <span class=\"n\">my_test_func</span>\n",
       "<span class=\"n\">my_test_func</span><span class=\"p\">()</span>\n",
       "</pre></div>\n",
       "</div>\n",
       "</div>\n",
       "</div>\n",
       "</div>"
      ],
      "text/plain": [
       "<IPython.core.display.HTML object>"
      ]
     },
     "metadata": {},
     "output_type": "display_data"
    },
    {
     "data": {
      "text/html": [
       "<div class=\"cell border-box-sizing code_cell rendered\">\n",
       "<div class=\"input\">\n",
       "<div class=\"prompt input_prompt\">In [ ]:</div>\n",
       "<div class=\"inner_cell\">\n",
       "<div class=\"input_area\">\n",
       "<div class=\"highlight hl-ipython3\"><pre><span></span><span class=\"kn\">import</span> <span class=\"nn\">numpy</span> <span class=\"k\">as</span> <span class=\"nn\">np</span>\n",
       "<span class=\"kn\">import</span> <span class=\"nn\">pandas</span> <span class=\"k\">as</span> <span class=\"nn\">pd</span>\n",
       "<span class=\"n\">n1</span> <span class=\"o\">=</span> <span class=\"n\">np</span><span class=\"o\">.</span><span class=\"n\">linspace</span><span class=\"p\">(</span><span class=\"mf\">5.5</span><span class=\"p\">,</span> <span class=\"mi\">22</span><span class=\"p\">)</span>\n",
       "<span class=\"n\">n2</span> <span class=\"o\">=</span> <span class=\"n\">np</span><span class=\"o\">.</span><span class=\"n\">linspace</span><span class=\"p\">(</span><span class=\"mf\">2.5</span><span class=\"p\">,</span> <span class=\"mi\">10</span><span class=\"p\">)</span>\n",
       "<span class=\"n\">z</span> <span class=\"o\">=</span> <span class=\"n\">n1</span> <span class=\"o\">+</span> <span class=\"n\">n2</span>\n",
       "<span class=\"n\">df</span> <span class=\"o\">=</span> <span class=\"n\">pd</span><span class=\"o\">.</span><span class=\"n\">DataFrame</span><span class=\"p\">({</span><span class=\"s1\">'n1'</span><span class=\"p\">:</span> <span class=\"n\">n1</span><span class=\"p\">,</span> <span class=\"s1\">'n2'</span><span class=\"p\">:</span> <span class=\"n\">n2</span><span class=\"p\">,</span> <span class=\"s1\">'z'</span><span class=\"p\">:</span> <span class=\"n\">z</span><span class=\"p\">})</span>\n",
       "<span class=\"n\">df</span><span class=\"o\">.</span><span class=\"n\">to_csv</span><span class=\"p\">(</span><span class=\"s1\">'test.tsv'</span><span class=\"p\">,</span> <span class=\"n\">sep</span><span class=\"o\">=</span><span class=\"s1\">'</span><span class=\"se\">\\t</span><span class=\"s1\">'</span><span class=\"p\">)</span>\n",
       "<span class=\"n\">df</span>\n",
       "</pre></div>\n",
       "</div>\n",
       "</div>\n",
       "</div>\n",
       "</div>"
      ],
      "text/plain": [
       "<IPython.core.display.HTML object>"
      ]
     },
     "metadata": {},
     "output_type": "display_data"
    },
    {
     "data": {
      "text/html": [
       "<div class=\"cell border-box-sizing code_cell rendered\">\n",
       "<div class=\"input\">\n",
       "<div class=\"prompt input_prompt\">In [ ]:</div>\n",
       "<div class=\"inner_cell\">\n",
       "<div class=\"input_area\">\n",
       "<div class=\"highlight hl-ipython3\"><pre><span></span><span class=\"p\">[</span><span class=\"s1\">'hello'</span><span class=\"p\">,</span> <span class=\"s1\">'world'</span><span class=\"p\">]</span>\n",
       "</pre></div>\n",
       "</div>\n",
       "</div>\n",
       "</div>\n",
       "</div>"
      ],
      "text/plain": [
       "<IPython.core.display.HTML object>"
      ]
     },
     "metadata": {},
     "output_type": "display_data"
    },
    {
     "data": {
      "text/html": [
       "<div class=\"cell border-box-sizing text_cell rendered\"><div class=\"prompt input_prompt\">\n",
       "</div><div class=\"inner_cell\">\n",
       "<div class=\"text_cell_render border-box-sizing rendered_html\">\n",
       "<h2 id=\"Section-2\">Section 2<a class=\"anchor-link\" href=\"#Section-2\">¶</a></h2>\n",
       "</div>\n",
       "</div>\n",
       "</div>"
      ],
      "text/plain": [
       "<IPython.core.display.HTML object>"
      ]
     },
     "metadata": {},
     "output_type": "display_data"
    },
    {
     "data": {
      "text/html": [
       "<div class=\"cell border-box-sizing text_cell rendered\"><div class=\"prompt input_prompt\">\n",
       "</div><div class=\"inner_cell\">\n",
       "<div class=\"text_cell_render border-box-sizing rendered_html\">\n",
       "<p>this<br/>\n",
       "is\n",
       "valid</p>\n",
       "<p><strong>markdown</strong></p>\n",
       "</div>\n",
       "</div>\n",
       "</div>"
      ],
      "text/plain": [
       "<IPython.core.display.HTML object>"
      ]
     },
     "metadata": {},
     "output_type": "display_data"
    },
    {
     "data": {
      "text/html": [
       "<div class=\"cell border-box-sizing text_cell rendered\"><div class=\"prompt input_prompt\">\n",
       "</div><div class=\"inner_cell\">\n",
       "<div class=\"text_cell_render border-box-sizing rendered_html\">\n",
       "<p><img alt=\"\" src=\"/static/GitHub-Mark.png\"/></p>\n",
       "</div>\n",
       "</div>\n",
       "</div>"
      ],
      "text/plain": [
       "<IPython.core.display.HTML object>"
      ]
     },
     "metadata": {},
     "output_type": "display_data"
    },
    {
     "ename": "Exception",
     "evalue": "Cell execution error on cell 8",
     "output_type": "error",
     "traceback": [
      "\u001b[0;31m---------------------------------------------------------------------------\u001b[0m",
      "\u001b[0;31mException\u001b[0m                                 Traceback (most recent call last)",
      "\u001b[0;32m<ipython-input-2-4135550d4ffd>\u001b[0m in \u001b[0;36m<module>\u001b[0;34m\u001b[0m\n\u001b[1;32m      1\u001b[0m \u001b[0;32mfrom\u001b[0m \u001b[0mappyter\u001b[0m\u001b[0;34m.\u001b[0m\u001b[0mremote\u001b[0m\u001b[0;34m.\u001b[0m\u001b[0mnbviewer\u001b[0m \u001b[0;32mimport\u001b[0m \u001b[0mjupyter_inline_evaluate\u001b[0m\u001b[0;34m\u001b[0m\u001b[0;34m\u001b[0m\u001b[0m\n\u001b[1;32m      2\u001b[0m \u001b[0;34m\u001b[0m\u001b[0m\n\u001b[0;32m----> 3\u001b[0;31m jupyter_inline_evaluate(\n\u001b[0m\u001b[1;32m      4\u001b[0m     \u001b[0murl\u001b[0m \u001b[0;34m=\u001b[0m \u001b[0;34m'http://127.0.0.1:5000/'\u001b[0m\u001b[0;34m,\u001b[0m\u001b[0;34m\u001b[0m\u001b[0;34m\u001b[0m\u001b[0m\n\u001b[1;32m      5\u001b[0m     \u001b[0mcontext\u001b[0m\u001b[0;34m=\u001b[0m\u001b[0;34m{\u001b[0m\u001b[0;34m}\u001b[0m\u001b[0;34m,\u001b[0m\u001b[0;34m\u001b[0m\u001b[0;34m\u001b[0m\u001b[0m\n",
      "\u001b[0;32m~/.local/lib/python3.8/site-packages/appyter/remote/nbviewer.py\u001b[0m in \u001b[0;36mjupyter_inline_evaluate\u001b[0;34m(url, context)\u001b[0m\n\u001b[1;32m     28\u001b[0m \u001b[0;34m\u001b[0m\u001b[0m\n\u001b[1;32m     29\u001b[0m   \u001b[0menv\u001b[0m \u001b[0;34m=\u001b[0m \u001b[0mget_jinja2_env\u001b[0m\u001b[0;34m(\u001b[0m\u001b[0mget_env\u001b[0m\u001b[0;34m(\u001b[0m\u001b[0;34m**\u001b[0m\u001b[0mdict\u001b[0m\u001b[0;34m(\u001b[0m\u001b[0mipynb\u001b[0m\u001b[0;34m=\u001b[0m\u001b[0;34m'app.ipynb'\u001b[0m\u001b[0;34m)\u001b[0m\u001b[0;34m)\u001b[0m\u001b[0;34m)\u001b[0m\u001b[0;34m\u001b[0m\u001b[0;34m\u001b[0m\u001b[0m\n\u001b[0;32m---> 30\u001b[0;31m   \u001b[0mrender_nb_from_stream\u001b[0m\u001b[0;34m(\u001b[0m\u001b[0menv\u001b[0m\u001b[0;34m,\u001b[0m \u001b[0mstream_generator\u001b[0m\u001b[0;34m(\u001b[0m\u001b[0;34m)\u001b[0m\u001b[0;34m)\u001b[0m\u001b[0;34m\u001b[0m\u001b[0;34m\u001b[0m\u001b[0m\n\u001b[0m",
      "\u001b[0;32m~/.local/lib/python3.8/site-packages/appyter/render/nbviewer.py\u001b[0m in \u001b[0;36mrender_nb_from_stream\u001b[0;34m(env, stream)\u001b[0m\n\u001b[1;32m     73\u001b[0m       \u001b[0;32melif\u001b[0m \u001b[0mmsg\u001b[0m\u001b[0;34m[\u001b[0m\u001b[0;34m'type'\u001b[0m\u001b[0;34m]\u001b[0m \u001b[0;34m==\u001b[0m \u001b[0;34m'error'\u001b[0m\u001b[0;34m:\u001b[0m\u001b[0;34m\u001b[0m\u001b[0;34m\u001b[0m\u001b[0m\n\u001b[1;32m     74\u001b[0m         \u001b[0mupdate_display\u001b[0m\u001b[0;34m(\u001b[0m\u001b[0mHTML\u001b[0m\u001b[0;34m(\u001b[0m\u001b[0;34m'Error'\u001b[0m\u001b[0;34m)\u001b[0m\u001b[0;34m,\u001b[0m \u001b[0mdisplay_id\u001b[0m\u001b[0;34m=\u001b[0m\u001b[0mid\u001b[0m\u001b[0;34m+\u001b[0m\u001b[0;34m'_status'\u001b[0m\u001b[0;34m)\u001b[0m\u001b[0;34m\u001b[0m\u001b[0;34m\u001b[0m\u001b[0m\n\u001b[0;32m---> 75\u001b[0;31m         \u001b[0;32mraise\u001b[0m \u001b[0mException\u001b[0m\u001b[0;34m(\u001b[0m\u001b[0mmsg\u001b[0m\u001b[0;34m[\u001b[0m\u001b[0;34m'data'\u001b[0m\u001b[0;34m]\u001b[0m\u001b[0;34m)\u001b[0m\u001b[0;34m\u001b[0m\u001b[0;34m\u001b[0m\u001b[0m\n\u001b[0m\u001b[1;32m     76\u001b[0m     \u001b[0;32melse\u001b[0m\u001b[0;34m:\u001b[0m\u001b[0;34m\u001b[0m\u001b[0;34m\u001b[0m\u001b[0m\n\u001b[1;32m     77\u001b[0m       \u001b[0mupdate_display\u001b[0m\u001b[0;34m(\u001b[0m\u001b[0mHTML\u001b[0m\u001b[0;34m(\u001b[0m\u001b[0mstr\u001b[0m\u001b[0;34m(\u001b[0m\u001b[0mmsg\u001b[0m\u001b[0;34m)\u001b[0m\u001b[0;34m)\u001b[0m\u001b[0;34m,\u001b[0m \u001b[0mdisplay_id\u001b[0m\u001b[0;34m=\u001b[0m\u001b[0mid\u001b[0m\u001b[0;34m+\u001b[0m\u001b[0;34m'_status'\u001b[0m\u001b[0;34m)\u001b[0m\u001b[0;34m\u001b[0m\u001b[0;34m\u001b[0m\u001b[0m\n",
      "\u001b[0;31mException\u001b[0m: Cell execution error on cell 8"
     ]
    }
   ],
   "source": [
    "from appyter.remote.nbviewer import jupyter_inline_evaluate\n",
    "\n",
    "jupyter_inline_evaluate(\n",
    "    url = 'http://127.0.0.1:5000/',\n",
    "    context={},\n",
    ")"
   ]
  },
  {
   "cell_type": "code",
   "execution_count": null,
   "metadata": {},
   "outputs": [],
   "source": []
  }
 ],
 "metadata": {
  "kernelspec": {
   "display_name": "Python 3.8.1 64-bit",
   "language": "python",
   "name": "python38164bit1a447d370127449d809db2bf16ffa68f"
  },
  "language_info": {
   "codemirror_mode": {
    "name": "ipython",
    "version": 3
   },
   "file_extension": ".py",
   "mimetype": "text/x-python",
   "name": "python",
   "nbconvert_exporter": "python",
   "pygments_lexer": "ipython3",
   "version": "3.8.3"
  }
 },
 "nbformat": 4,
 "nbformat_minor": 4
}
